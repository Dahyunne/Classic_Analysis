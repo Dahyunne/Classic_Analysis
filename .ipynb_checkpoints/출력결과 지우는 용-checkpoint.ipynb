{
 "cells": [
  {
   "cell_type": "code",
   "execution_count": 2,
   "id": "c43ca1b5",
   "metadata": {},
   "outputs": [
    {
     "name": "stderr",
     "output_type": "stream",
     "text": [
      "R:\\anaconda\\lib\\site-packages\\IPython\\nbformat.py:12: ShimWarning: The `IPython.nbformat` package has been deprecated since IPython 4.0. You should import from nbformat instead.\n",
      "  warn(\"The `IPython.nbformat` package has been deprecated since IPython 4.0. \"\n",
      "R:\\anaconda\\lib\\site-packages\\nbformat\\current.py:15: UserWarning: nbformat.current is deprecated.\n",
      "\n",
      "- use nbformat for read/write/validate public API\n",
      "- use nbformat.vX directly to composing notebooks of a particular version\n",
      "\n",
      "  warnings.warn(\"\"\"nbformat.current is deprecated.\n"
     ]
    }
   ],
   "source": [
    "import sys\n",
    "import io\n",
    "import os\n",
    "from IPython.nbformat.current import read, write\n",
    "\n",
    "def clear_notebook(fname, new_fname):\n",
    "    with io.open(fname, 'r', encoding = \"utf-8\") as f:\n",
    "        nb = read(f, 'json')\n",
    "        \n",
    "    for ws in nb.worksheets:\n",
    "        for cell in ws.cells:\n",
    "            if cell.cell_type == 'code':\n",
    "                cell.outputs = []\n",
    "    \n",
    "    base, ext = os.path.splitext(fname)\n",
    "    new_ipynb = \"%s_revomed%s\" % (base, ext)\n",
    "    with io.open(new_fname, 'w', encoding = 'utf-8') as f:\n",
    "        write(nb, f, 'json')"
   ]
  },
  {
   "cell_type": "code",
   "execution_count": null,
   "id": "1871b2ed",
   "metadata": {},
   "outputs": [],
   "source": []
  }
 ],
 "metadata": {
  "kernelspec": {
   "display_name": "Python 3",
   "language": "python",
   "name": "python3"
  },
  "language_info": {
   "codemirror_mode": {
    "name": "ipython",
    "version": 3
   },
   "file_extension": ".py",
   "mimetype": "text/x-python",
   "name": "python",
   "nbconvert_exporter": "python",
   "pygments_lexer": "ipython3",
   "version": "3.8.8"
  }
 },
 "nbformat": 4,
 "nbformat_minor": 5
}
