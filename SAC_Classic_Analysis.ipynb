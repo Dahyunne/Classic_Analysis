{
 "metadata": {
  "kernelspec": {
   "display_name": "Python 3",
   "language": "python",
   "name": "python3"
  },
  "language_info": {
   "codemirror_mode": {
    "name": "ipython",
    "version": 3
   },
   "file_extension": ".py",
   "mimetype": "text/x-python",
   "name": "python",
   "nbconvert_exporter": "python",
   "pygments_lexer": "ipython3",
   "version": "3.8.8"
  },
  "name": ""
 },
 "nbformat": 3,
 "nbformat_minor": 0,
 "worksheets": [
  {
   "cells": [
    {
     "cell_type": "code",
     "collapsed": false,
     "input": [
      "import openpyxl\n",
      "import requests\n",
      "from bs4 import BeautifulSoup\n",
      "import pandas as pd"
     ],
     "language": "python",
     "metadata": {},
     "outputs": [],
     "prompt_number": 1
    },
    {
     "cell_type": "code",
     "collapsed": false,
     "input": [
      "urlsrc = \"https://www.sac.or.kr/site/main/show/show_view?SN=\"\n",
      "\n",
      "\n",
      "\n",
      "res = requests.get(urlsrc + \"2623\")\n",
      "soup = BeautifulSoup(res.content,'html.parser')\n",
      "data = soup.select('#contents > div.cwa-con > div.cwa-content.area > div.cwa-tab-list > div.ctl-sub.on > div > div > div')"
     ],
     "language": "python",
     "metadata": {},
     "outputs": [],
     "prompt_number": 11
    },
    {
     "cell_type": "code",
     "collapsed": false,
     "input": [
      "try:\n",
      "    for page_num in range(1, 50000, 10):\n",
      "        if res.status_code == 404:\n",
      "            print (str(page_num) + '\ud398\uc774\uc9c0 \uc5c6\uc74c')\n",
      "        else:\n",
      "            res = requests.get(urlsrc + str(page_num +1)) \n",
      "            soup = BeautifulSoup(res.content, 'html.parser')\n",
      "            data = soup.select('#contents > div.cwa-con > div.cwa-content.area > div.cwa-tab-list > div.ctl-sub.on > div > div > div')\n",
      "            for item in data:\n",
      "                print(page_num+1)\n",
      "                print (item.get_text().strip())\n",
      "except requests.Timeout:\n",
      "    pass\n",
      "except requests.ConnectionError:\n",
      "    pass\n"
     ],
     "language": "python",
     "metadata": {},
     "outputs": [],
     "prompt_number": 22
    },
    {
     "cell_type": "code",
     "collapsed": false,
     "input": [
      "try:\n",
      "    for page_num in range(27530, 50000, 10):\n",
      "        if res.status_code == 404:\n",
      "            print (str(page_num) + '\ud398\uc774\uc9c0 \uc5c6\uc74c')\n",
      "        else:\n",
      "            res = requests.get(urlsrc + str(page_num +1)) \n",
      "            soup = BeautifulSoup(res.content, 'html.parser')\n",
      "            data = soup.select('#contents > div.cwa-con > div.cwa-content.area > div.cwa-tab-list > div.ctl-sub.on > div > div > div')\n",
      "            for item in data:\n",
      "                print(page_num+1)\n",
      "                print (item.get_text().strip())\n",
      "except requests.Timeout:\n",
      "    pass\n",
      "except requests.ConnectionError:\n",
      "    pass\n"
     ],
     "language": "python",
     "metadata": {},
     "outputs": [],
     "prompt_number": 23
    },
    {
     "cell_type": "code",
     "collapsed": false,
     "input": [
      "try:\n",
      "    for page_num in range(46180, 60000, 10):\n",
      "        if res.status_code == 404:\n",
      "            print (str(page_num) + '\ud398\uc774\uc9c0 \uc5c6\uc74c')\n",
      "        else:\n",
      "            res = requests.get(urlsrc + str(page_num +1)) \n",
      "            soup = BeautifulSoup(res.content, 'html.parser')\n",
      "            data = soup.select('#contents > div.cwa-con > div.cwa-content.area > div.cwa-tab-list > div.ctl-sub.on > div > div > div')\n",
      "            for item in data:\n",
      "                print(page_num+1)\n",
      "                print (item.get_text().strip())\n",
      "except requests.Timeout:\n",
      "    pass\n",
      "except requests.ConnectionError:\n",
      "    pass\n"
     ],
     "language": "python",
     "metadata": {},
     "outputs": [],
     "prompt_number": 24
    },
    {
     "cell_type": "code",
     "collapsed": false,
     "input": [],
     "language": "python",
     "metadata": {},
     "outputs": [],
     "prompt_number": null
    }
   ],
   "metadata": {}
  }
 ]
}